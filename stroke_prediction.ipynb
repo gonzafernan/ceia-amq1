{
 "cells": [
  {
   "cell_type": "markdown",
   "metadata": {},
   "source": [
    "# Predicción de derrame cerebral\n",
    "### Objetivo\n",
    "Predecir para una determinada persona, en base a determinadas características fisiológicas y sociales, la posibilidad de que tenga un derrame cerebral. "
   ]
  },
  {
   "cell_type": "code",
   "execution_count": 25,
   "metadata": {},
   "outputs": [],
   "source": [
    "import pandas as pd\n",
    "import seaborn as sns"
   ]
  },
  {
   "cell_type": "markdown",
   "metadata": {},
   "source": [
    "Cargar el dataset \"Stroke Prediction\". Se encuentra disponible el script `download_dataset.sh` para su descarga desde Kaggle."
   ]
  },
  {
   "cell_type": "code",
   "execution_count": null,
   "metadata": {},
   "outputs": [],
   "source": [
    "df = pd.read_csv(\"healthcare-dataset-stroke-data.csv\")\n",
    "df.head()"
   ]
  },
  {
   "cell_type": "markdown",
   "metadata": {},
   "source": [
    "### Transformación de los datos\n",
    "Transformación de variables categóricas. Posible mediante **One-Hot encoding** dada que la cantidad de categorías es relativamente baja y con poca probabilidad de cambiar/extenderse en el futuro."
   ]
  },
  {
   "cell_type": "code",
   "execution_count": null,
   "metadata": {},
   "outputs": [],
   "source": [
    "# Cathegoric variables transformation\n",
    "print(\"Applying One-Hot encoding to:\")\n",
    "for label, to_drop in [\n",
    "    (\"gender\", \"Other\"),\n",
    "    (\"ever_married\", \"No\"),\n",
    "    (\"work_type\", \"children\"),\n",
    "    (\"Residence_type\", \"Rural\"),\n",
    "    (\"smoking_status\", \"Unknown\"),\n",
    "]:\n",
    "    unique_values = df[label].unique()\n",
    "    print(label + \":\", unique_values)\n",
    "    prefix = \"is\" if len(unique_values) > 2 else label\n",
    "    one_hot = pd.get_dummies(data=df[label], prefix=prefix).drop(\n",
    "        prefix + \"_\" + to_drop if prefix else to_drop, axis=1\n",
    "    )\n",
    "    df.drop(label, axis=1, inplace=True)\n",
    "    df = df.join(one_hot)\n",
    "df.head()"
   ]
  },
  {
   "cell_type": "code",
   "execution_count": null,
   "metadata": {},
   "outputs": [],
   "source": [
    "df.describe()"
   ]
  },
  {
   "cell_type": "code",
   "execution_count": null,
   "metadata": {},
   "outputs": [],
   "source": [
    "sns.countplot(df, x=\"stroke\", hue=\"work_type\")"
   ]
  },
  {
   "cell_type": "code",
   "execution_count": null,
   "metadata": {},
   "outputs": [],
   "source": [
    "sns.pairplot(df.drop(columns=[\"id\"]), hue=\"stroke\", diag_kind=\"hist\")"
   ]
  },
  {
   "cell_type": "code",
   "execution_count": null,
   "metadata": {},
   "outputs": [],
   "source": [
    "sns.heatmap(df.drop(columns=[\"id\"]).corr())"
   ]
  }
 ],
 "metadata": {
  "kernelspec": {
   "display_name": ".venv",
   "language": "python",
   "name": "python3"
  },
  "language_info": {
   "codemirror_mode": {
    "name": "ipython",
    "version": 3
   },
   "file_extension": ".py",
   "mimetype": "text/x-python",
   "name": "python",
   "nbconvert_exporter": "python",
   "pygments_lexer": "ipython3",
   "version": "3.12.3"
  }
 },
 "nbformat": 4,
 "nbformat_minor": 2
}

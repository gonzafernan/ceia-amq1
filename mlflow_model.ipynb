{
 "cells": [
  {
   "cell_type": "markdown",
   "metadata": {},
   "source": [
    "## Entrenamiento de modelo para entorno de producción\n",
    "\n",
    "### Dependencias"
   ]
  },
  {
   "cell_type": "code",
   "execution_count": 19,
   "metadata": {},
   "outputs": [],
   "source": [
    "import awswrangler as wr\n",
    "import datetime\n",
    "import mlflow\n",
    "from sklearn.ensemble import RandomForestClassifier\n",
    "from sklearn.metrics import (\n",
    "    confusion_matrix,\n",
    "    f1_score,\n",
    "    accuracy_score,\n",
    "    precision_score,\n",
    "    recall_score,\n",
    "    ConfusionMatrixDisplay,\n",
    ")"
   ]
  },
  {
   "cell_type": "markdown",
   "metadata": {},
   "source": [
    "Variables de entorno:"
   ]
  },
  {
   "cell_type": "code",
   "execution_count": null,
   "metadata": {},
   "outputs": [],
   "source": [
    "%env AWS_ACCESS_KEY_ID=minio   \n",
    "%env AWS_SECRET_ACCESS_KEY=minio123 \n",
    "%env MLFLOW_S3_ENDPOINT_URL=http://localhost:9000\n",
    "%env AWS_ENDPOINT_URL_S3=http://localhost:9000"
   ]
  },
  {
   "cell_type": "code",
   "execution_count": 2,
   "metadata": {},
   "outputs": [],
   "source": [
    "mlflow_server = \"http://localhost:5000\"\n",
    "\n",
    "mlflow.set_tracking_uri(mlflow_server)"
   ]
  },
  {
   "cell_type": "markdown",
   "metadata": {},
   "source": [
    "### Cargar datos de entrenamiento y evaluación\n",
    "Cargar los datos de entrenamiento y evaluación guardados en el proceso de ETL en Apache Airflow en S3:"
   ]
  },
  {
   "cell_type": "code",
   "execution_count": 6,
   "metadata": {},
   "outputs": [],
   "source": [
    "PREFIX_CSV_FILES = \"healthcare-dataset-stroke-data_\"\n",
    "X_train =  wr.s3.read_csv(f\"s3://data/final/train/{PREFIX_CSV_FILES}X_train.csv\")\n",
    "y_train =  wr.s3.read_csv(f\"s3://data/final/train/{PREFIX_CSV_FILES}y_train.csv\")\n",
    "\n",
    "X_test =  wr.s3.read_csv(f\"s3://data/final/test/{PREFIX_CSV_FILES}X_test.csv\")\n",
    "y_test =  wr.s3.read_csv(f\"s3://data/final/test/{PREFIX_CSV_FILES}y_test.csv\")"
   ]
  },
  {
   "cell_type": "markdown",
   "metadata": {},
   "source": [
    "### Entrenamiento del modelo para producción\n",
    "Creación del experimento en MLflow con el entrenamiento del modelo:"
   ]
  },
  {
   "cell_type": "code",
   "execution_count": 20,
   "metadata": {},
   "outputs": [
    {
     "name": "stdout",
     "output_type": "stream",
     "text": [
      "2\n"
     ]
    }
   ],
   "source": [
    "experiment = mlflow.get_experiment_by_name(\"Stroke Prediction\")\n",
    "if not experiment:\n",
    "    experiment_id = mlflow.create_experiment(\"Stroke Prediction\")\n",
    "else:\n",
    "    experiment_id = experiment.experiment_id\n",
    "print(experiment_id)\n",
    "run_name_parent = \"stroke_prediction_train_\"  + datetime.datetime.today().strftime('%Y/%m/%d-%H:%M:%S\"')"
   ]
  },
  {
   "cell_type": "markdown",
   "metadata": {},
   "source": [
    "Entrenamiento del modelo con Scikit-learn:"
   ]
  },
  {
   "cell_type": "code",
   "execution_count": 22,
   "metadata": {},
   "outputs": [
    {
     "name": "stdout",
     "output_type": "stream",
     "text": [
      "Accuracy: 0.9718085106382979\n",
      "Precision: 0.9703075291622482\n",
      "Recall: 0.973404255319149\n",
      "f1 score: 0.971853425385024\n"
     ]
    },
    {
     "data": {
      "text/plain": [
       "<sklearn.metrics._plot.confusion_matrix.ConfusionMatrixDisplay at 0x737bd0115b80>"
      ]
     },
     "execution_count": 22,
     "metadata": {},
     "output_type": "execute_result"
    },
    {
     "data": {
      "image/png": "[encoded data removed]",
      "text/plain": [
       "<Figure size 640x480 with 2 Axes>"
      ]
     },
     "metadata": {},
     "output_type": "display_data"
    }
   ],
   "source": [
    "model_params = {\"n_estimators\": 20, \"criterion\": \"log_loss\", \"max_depth\": 50}\n",
    "model = RandomForestClassifier(**model_params)\n",
    "model.fit(X_train, y_train.to_numpy().ravel())\n",
    "y_pred = model.predict(X_test)\n",
    "accuracy = accuracy_score(y_test, y_pred)\n",
    "precision = precision_score(y_test, y_pred)\n",
    "recall = recall_score(y_test, y_pred)\n",
    "f1_value = f1_score(y_test, y_pred)\n",
    "confusion = confusion_matrix(y_test, y_pred)\n",
    "print(\"Accuracy:\", accuracy)\n",
    "print(\"Precision:\", precision)\n",
    "print(\"Recall:\", recall)\n",
    "print(\"f1 score:\", f1_value)\n",
    "disp = ConfusionMatrixDisplay(confusion)\n",
    "disp.plot()"
   ]
  },
  {
   "cell_type": "markdown",
   "metadata": {},
   "source": [
    "Registro de entrenamiento en MLflow:"
   ]
  },
  {
   "cell_type": "code",
   "execution_count": 25,
   "metadata": {},
   "outputs": [
    {
     "name": "stderr",
     "output_type": "stream",
     "text": [
      "Successfully registered model 'stroke_prediction_model_dev'.\n",
      "2024/12/11 22:48:34 INFO mlflow.store.model_registry.abstract_store: Waiting up to 300 seconds for model version to finish creation. Model name: stroke_prediction_model_dev, version 1\n",
      "Created version '1' of model 'stroke_prediction_model_dev'.\n"
     ]
    },
    {
     "name": "stdout",
     "output_type": "stream",
     "text": [
      "🏃 View run stroke_prediction_train_2024/12/11-22:36:29\" at: http://localhost:5000/#/experiments/2/runs/c1cb203d0ea9438d96750ef724084de9\n",
      "🧪 View experiment at: http://localhost:5000/#/experiments/2\n"
     ]
    }
   ],
   "source": [
    "import mlflow.models\n",
    "\n",
    "\n",
    "with mlflow.start_run(experiment_id=experiment_id, run_name=run_name_parent, nested=True):\n",
    "    mlflow.set_tags(tags={\"project\": \"Stroke Prediction\", \"model_family\": \"sklearn\", \"feature_set_version\": 1})\n",
    "    mlflow.log_params(model_params)\n",
    "    mlflow.log_metric(\"f1_score\", f1_value)\n",
    "    mlflow.log_figure(figure=disp.figure_, artifact_file=\"confusion_matrix.png\")\n",
    "    signature = mlflow.models.infer_signature(X_train, model.predict(X_train))\n",
    "\n",
    "    mlflow.sklearn.log_model(\n",
    "        sk_model=model,\n",
    "        artifact_path=\"model\",\n",
    "        signature=signature,\n",
    "        serialization_format='cloudpickle',\n",
    "        registered_model_name=\"stroke_prediction_model_dev\",\n",
    "        metadata={\"model_data_version\": 1}\n",
    "    )\n",
    "\n",
    "    model_uri = mlflow.get_artifact_uri(\"model\")\n"
   ]
  },
  {
   "cell_type": "markdown",
   "metadata": {},
   "source": [
    "### Registro del modelo para producción\n",
    "El modelo puede observarse en la siguiente URL: http://localhost:5000/#/models"
   ]
  },
  {
   "cell_type": "code",
   "execution_count": 26,
   "metadata": {},
   "outputs": [
    {
     "name": "stderr",
     "output_type": "stream",
     "text": [
      "2024/12/11 22:54:06 INFO mlflow.store.model_registry.abstract_store: Waiting up to 300 seconds for model version to finish creation. Model name: stroke_prediction_model_prod, version 1\n"
     ]
    }
   ],
   "source": [
    "client = mlflow.MlflowClient()\n",
    "name = \"stroke_prediction_model_prod\"\n",
    "description = \"This model is used to predict whether a patient is likely to get stroke \\\n",
    "based on the input parameters like gender, age, various diseases, and smoking status.\"\n",
    "\n",
    "client.create_registered_model(name=name, description=description)\n",
    "tags = model.get_params()\n",
    "tags[\"model\"] = type(model).__name__\n",
    "tags[\"f1-score\"] = f1_value\n",
    "\n",
    "result = client.create_model_version(name=name, source=model_uri, run_id=model_uri.split(\"/\")[-3], tags=tags)\n",
    "\n",
    "# alias to use model in retrain model airflow service\n",
    "client.set_registered_model_alias(name, \"champion\", result.version)"
   ]
  }
 ],
 "metadata": {
  "kernelspec": {
   "display_name": ".venv",
   "language": "python",
   "name": "python3"
  },
  "language_info": {
   "codemirror_mode": {
    "name": "ipython",
    "version": 3
   },
   "file_extension": ".py",
   "mimetype": "text/x-python",
   "name": "python",
   "nbconvert_exporter": "python",
   "pygments_lexer": "ipython3",
   "version": "3.12.3"
  }
 },
 "nbformat": 4,
 "nbformat_minor": 2
}
